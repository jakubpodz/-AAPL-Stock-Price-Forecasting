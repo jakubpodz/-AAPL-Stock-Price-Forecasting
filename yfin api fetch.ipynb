{
 "cells": [
  {
   "cell_type": "code",
   "execution_count": 2,
   "metadata": {},
   "outputs": [
    {
     "name": "stdout",
     "output_type": "stream",
     "text": [
      "Date\n",
      "2005-01-03 00:00:00-05:00    0.954408\n",
      "2005-01-04 00:00:00-05:00    0.964210\n",
      "2005-01-05 00:00:00-05:00    0.972655\n",
      "2005-01-06 00:00:00-05:00    0.973409\n",
      "2005-01-07 00:00:00-05:00    1.044284\n",
      "Name: Close, dtype: float64\n"
     ]
    }
   ],
   "source": [
    "import yfinance as yf\n",
    "\n",
    "\n",
    "ticker = yf.Ticker('AAPL')\n",
    "\n",
    "historical_data = ticker.history(start='2005-01-01', end='2024-06-30', interval='1d')\n",
    "aapl_close = historical_data['Close']\n",
    "\n",
    "print(aapl_close.head())\n",
    "aapl_close.to_csv('aapl_close.csv')"
   ]
  }
 ],
 "metadata": {
  "kernelspec": {
   "display_name": "base",
   "language": "python",
   "name": "python3"
  },
  "language_info": {
   "codemirror_mode": {
    "name": "ipython",
    "version": 3
   },
   "file_extension": ".py",
   "mimetype": "text/x-python",
   "name": "python",
   "nbconvert_exporter": "python",
   "pygments_lexer": "ipython3",
   "version": "3.11.5"
  }
 },
 "nbformat": 4,
 "nbformat_minor": 2
}
